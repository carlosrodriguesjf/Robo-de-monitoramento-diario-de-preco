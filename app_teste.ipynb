{
 "cells": [
  {
   "cell_type": "markdown",
   "metadata": {},
   "source": [
    "Robô de Monitoramento Diário de Preço\n",
    "\n",
    "Breve descrição do projeto:\n",
    "Crie um script em Python que automatize a consulta de preços de um único produto(ex: iphone\n",
    "15 pro max,você escolhe o produto) em algum site da sua escolha(você pode escolher\n",
    "qualquer site mesmo) e atualize uma planilha Excel com os preços coletados de 30 em 30\n",
    "minutos\n",
    "Funcionalidades que o projeto deve possuir:\n",
    "1. Consulta Automatizada:\n",
    "○ Acesse um site que venda o produto que escolheu.\n",
    "○ Verificar o preço atual.\n",
    "○ Guardar o valor do preço(somente o valor numérico, não em texto)\n",
    "i. ex:\n",
    "ii. Se o valor está como R$1500,00 no site, você irá guardar apenas 1500\n",
    "iii. Se o valor está como R$1700,50 no site, você irá guardar apenas\n",
    "1700.50\n",
    "\n",
    "2. Manipulação de Planilhas:\n",
    "○ Crie uma planilha com a seguintes colunas:\n",
    "i. Produto(que armazena o nome do produto)\n",
    "ii. Data atual(que corresponde à data da consulta)\n",
    "iii. Valor\n",
    "iv. Link(link direto para o produto)\n",
    "\n",
    "3. Automatização Recorrente:\n",
    "○ Criar um agendamento para que o bot rode de 30 em 30 minutos"
   ]
  },
  {
   "cell_type": "code",
   "execution_count": 52,
   "metadata": {},
   "outputs": [],
   "source": [
    "from selenium import webdriver\n",
    "from selenium.webdriver.chrome.options import Options\n",
    "from selenium.webdriver.common.by import By\n",
    "from time import sleep \n",
    "import openpyxl\n",
    "import datetime"
   ]
  },
  {
   "cell_type": "code",
   "execution_count": 53,
   "metadata": {},
   "outputs": [],
   "source": [
    "\n",
    "\n",
    "def iniciar_driver():\n",
    "    chrome_options = Options()\n",
    "    # Fonte de opções de switches https://peter.sh/experiments/chromium-command-line-switches/\n",
    "\n",
    "    arguments = ['--lang=pt-BR', '--start-maximized', '--incognito']\n",
    "\n",
    "    for argument in arguments:\n",
    "        chrome_options.add_argument(argument)\n",
    "\n",
    "    driver = webdriver.Chrome(options=chrome_options)\n",
    "    return driver\n",
    "\n",
    "driver = iniciar_driver()\n",
    "driver.get('https://www.zoom.com.br/search?q=monitor%2024%20polegadas')\n"
   ]
  },
  {
   "cell_type": "code",
   "execution_count": 54,
   "metadata": {},
   "outputs": [],
   "source": [
    "sleep(2)\n",
    "\n",
    "# Coletando nome do produto\n",
    "nome_produto = driver.find_element(By.XPATH,\"//div/a[@class='ProductCard_ProductCard_Inner__gapsh']//div[2]//div[2]/div/div/h2\").text\n",
    "\n",
    "\n",
    "valor = driver.find_element(By.XPATH,\"//div/a[@class='ProductCard_ProductCard_Inner__gapsh']//div[2]//div[2]/div[2]/p\").text\n",
    "\n",
    "\n",
    "link = driver.find_element(By.XPATH,\"//div/a[@class='ProductCard_ProductCard_Inner__gapsh']\").get_attribute('href')\n",
    "\n",
    "\n",
    "\n",
    "\n",
    "\n",
    "driver.close()"
   ]
  },
  {
   "cell_type": "code",
   "execution_count": null,
   "metadata": {},
   "outputs": [],
   "source": [
    "\n",
    "\n"
   ]
  },
  {
   "cell_type": "code",
   "execution_count": 55,
   "metadata": {},
   "outputs": [],
   "source": [
    "# acesssando a data atual\n",
    "data_atual = datetime.date.today().strftime('%d/%m/%Y')\n",
    "\n",
    "\n",
    "# tratando o valor\n",
    "valor_tratado = valor.split()[1].replace(',','.')\n",
    "\n",
    "\n"
   ]
  },
  {
   "cell_type": "code",
   "execution_count": 56,
   "metadata": {},
   "outputs": [],
   "source": [
    "#planilha\n",
    "\n",
    "\n",
    "# criando a sheet\n",
    "workbook = openpyxl.Workbook()\n",
    "\n",
    "# Alterando o nome da sheet\n",
    "workbook['Sheet'].title = 'Precos_Monitores'\n",
    "\n"
   ]
  },
  {
   "cell_type": "code",
   "execution_count": 57,
   "metadata": {},
   "outputs": [],
   "source": [
    "# selecionando a sheet\n",
    "sheet_precos_produtos = workbook['Precos_Monitores']\n",
    "\n",
    "# Criando o cabeçalho da sheet\n",
    "sheet_precos_produtos.append(['Produto','Data atual','Valor','Link'])"
   ]
  },
  {
   "cell_type": "code",
   "execution_count": 60,
   "metadata": {},
   "outputs": [],
   "source": [
    "\n",
    "\n",
    "#salvando os dados na planilha\n",
    "sheet_precos_produtos.append([nome_produto, data_atual, valor, link])\n",
    "\n",
    "\n",
    "# Salvando a sheet\n",
    "workbook.save(r'C:\\projetos\\Robo-de-monitoramento-diario-de-preco\\arquivos\\precos.xlsx')"
   ]
  },
  {
   "cell_type": "code",
   "execution_count": null,
   "metadata": {},
   "outputs": [],
   "source": []
  },
  {
   "cell_type": "code",
   "execution_count": 59,
   "metadata": {},
   "outputs": [],
   "source": [
    "# Agendamento"
   ]
  }
 ],
 "metadata": {
  "kernelspec": {
   "display_name": "venv",
   "language": "python",
   "name": "python3"
  },
  "language_info": {
   "codemirror_mode": {
    "name": "ipython",
    "version": 3
   },
   "file_extension": ".py",
   "mimetype": "text/x-python",
   "name": "python",
   "nbconvert_exporter": "python",
   "pygments_lexer": "ipython3",
   "version": "3.12.0"
  }
 },
 "nbformat": 4,
 "nbformat_minor": 2
}
